{
  "nbformat": 4,
  "nbformat_minor": 0,
  "metadata": {
    "colab": {
      "name": "Customer-Churn-Modeling.ipynb",
      "provenance": [],
      "collapsed_sections": [],
      "toc_visible": true
    },
    "kernelspec": {
      "name": "python3",
      "display_name": "Python 3"
    }
  },
  "cells": [
    {
      "cell_type": "markdown",
      "metadata": {
        "id": "aV--nGAlx-NL"
      },
      "source": [
        "# PREDICTING CUSTOMER CHURN"
      ]
    },
    {
      "cell_type": "markdown",
      "metadata": {
        "id": "L6g8vqnXUKGy"
      },
      "source": [
        "**Objective:** Modeling the churn probability for customers who created the account and made at least 1 purchase."
      ]
    },
    {
      "cell_type": "markdown",
      "metadata": {
        "id": "zJa6yl5dPMH8"
      },
      "source": [
        "**Features:**\n",
        "1.   **Target_Churn**: Churn or No churn\n",
        "2.   **Target_Code**: 1(Churn) or 0(No churn)\n",
        "3.   **Current_Bill_Amt**: Current bill amount that customer made.\n",
        "4.   **Avg_Calls**: Number of average calls that customer made.\n",
        "5.   **Avg_Calls_Weekdays**: Number of calls that customer made in weekdays.\n",
        "6.   **Account_Age**: Age of the account.\n",
        "7.   **Percent_Increase_MOM**: percent amount increased month over month.\n",
        "8.   **Acct_Plan_Subtype**: Sub-type plan of the account.\n",
        "9.   **Complaint_Code**: Complaint type.\n",
        "10.  **Avg_Days_Delinquent**: Average days that customer delayed payment.\n",
        "11.  **Current_TechSupComplaints**: Type of Technology Supply Complaints.\n",
        "12.  **Current_Days_OpenWorkOrders**: Current_Days_OpenWorkOrders\n",
        "13.  **Equipment_Age**: Age of equipment that customer used.\n",
        "14.  **Condition_of_Current_Handset**: Condition_of_Current_Handset\n",
        "15.  **Avg_Hours_WorkOrderOpenned**: Avg_Hours_WorkOrderOpenned\n",
        "\n",
        "\n",
        "\n",
        "\n"
      ]
    },
    {
      "cell_type": "markdown",
      "metadata": {
        "id": "g2SFrI2KxlOX"
      },
      "source": [
        "## Customer Churn Analysis"
      ]
    },
    {
      "cell_type": "code",
      "metadata": {
        "id": "QTP4266XRY8p"
      },
      "source": [
        "import pandas as pd\n",
        "import numpy as np\n",
        "import matplotlib.pyplot as plt\n",
        "import seaborn as sns\n",
        "import warnings\n",
        "from time import time\n",
        "warnings.filterwarnings('ignore')"
      ],
      "execution_count": 54,
      "outputs": []
    },
    {
      "cell_type": "code",
      "metadata": {
        "colab": {
          "base_uri": "https://localhost:8080/"
        },
        "id": "dTnpLTZhR3uy",
        "outputId": "2dda73c7-32bf-4dd1-cf8e-9f59417e36ec"
      },
      "source": [
        "!pwd"
      ],
      "execution_count": 4,
      "outputs": [
        {
          "output_type": "stream",
          "text": [
            "/content\n"
          ],
          "name": "stdout"
        }
      ]
    },
    {
      "cell_type": "code",
      "metadata": {
        "colab": {
          "base_uri": "https://localhost:8080/",
          "height": 343
        },
        "id": "TnQNKgZ_RhVi",
        "outputId": "25c9beb0-41d2-49a5-bdf0-762ea033bb44"
      },
      "source": [
        "data= pd.read_csv(r'marketing_data/Telco_Churn_Data.csv')\n",
        "data.head(5)"
      ],
      "execution_count": 8,
      "outputs": [
        {
          "output_type": "execute_result",
          "data": {
            "text/html": [
              "<div>\n",
              "<style scoped>\n",
              "    .dataframe tbody tr th:only-of-type {\n",
              "        vertical-align: middle;\n",
              "    }\n",
              "\n",
              "    .dataframe tbody tr th {\n",
              "        vertical-align: top;\n",
              "    }\n",
              "\n",
              "    .dataframe thead th {\n",
              "        text-align: right;\n",
              "    }\n",
              "</style>\n",
              "<table border=\"1\" class=\"dataframe\">\n",
              "  <thead>\n",
              "    <tr style=\"text-align: right;\">\n",
              "      <th></th>\n",
              "      <th>Target Churn</th>\n",
              "      <th>Target Code</th>\n",
              "      <th>Current Bill Amt</th>\n",
              "      <th>Avg Calls</th>\n",
              "      <th>Avg Calls Weekdays</th>\n",
              "      <th>Account Age</th>\n",
              "      <th>Percent Increase MOM</th>\n",
              "      <th>Acct Plan Subtype</th>\n",
              "      <th>Complaint Code</th>\n",
              "      <th>Avg Days Delinquent</th>\n",
              "      <th>Current TechSupComplaints</th>\n",
              "      <th>Current Days OpenWorkOrders</th>\n",
              "      <th>Equipment Age</th>\n",
              "      <th>Condition of Current Handset</th>\n",
              "      <th>Avg Hours WorkOrderOpenned</th>\n",
              "    </tr>\n",
              "  </thead>\n",
              "  <tbody>\n",
              "    <tr>\n",
              "      <th>0</th>\n",
              "      <td>No Churn</td>\n",
              "      <td>0</td>\n",
              "      <td>14210</td>\n",
              "      <td>17950.000000</td>\n",
              "      <td>30297.0000</td>\n",
              "      <td>24</td>\n",
              "      <td>-0.334193</td>\n",
              "      <td>Gold</td>\n",
              "      <td>Billing Problem</td>\n",
              "      <td>6.2</td>\n",
              "      <td>0</td>\n",
              "      <td>0.0</td>\n",
              "      <td>8</td>\n",
              "      <td>1.0</td>\n",
              "      <td>0.0</td>\n",
              "    </tr>\n",
              "    <tr>\n",
              "      <th>1</th>\n",
              "      <td>Churn</td>\n",
              "      <td>1</td>\n",
              "      <td>14407</td>\n",
              "      <td>0.000000</td>\n",
              "      <td>0.0000</td>\n",
              "      <td>28</td>\n",
              "      <td>0.000000</td>\n",
              "      <td>Silver</td>\n",
              "      <td>Moving</td>\n",
              "      <td>1.0</td>\n",
              "      <td>0</td>\n",
              "      <td>0.0</td>\n",
              "      <td>17</td>\n",
              "      <td>1.0</td>\n",
              "      <td>0.0</td>\n",
              "    </tr>\n",
              "    <tr>\n",
              "      <th>2</th>\n",
              "      <td>Churn</td>\n",
              "      <td>1</td>\n",
              "      <td>12712</td>\n",
              "      <td>204.666667</td>\n",
              "      <td>10393.6667</td>\n",
              "      <td>23</td>\n",
              "      <td>0.000000</td>\n",
              "      <td>Gold</td>\n",
              "      <td>Billing Problem</td>\n",
              "      <td>17.6</td>\n",
              "      <td>0</td>\n",
              "      <td>0.0</td>\n",
              "      <td>23</td>\n",
              "      <td>1.0</td>\n",
              "      <td>0.0</td>\n",
              "    </tr>\n",
              "    <tr>\n",
              "      <th>3</th>\n",
              "      <td>No Churn</td>\n",
              "      <td>0</td>\n",
              "      <td>13807</td>\n",
              "      <td>15490.333300</td>\n",
              "      <td>41256.3333</td>\n",
              "      <td>39</td>\n",
              "      <td>0.148986</td>\n",
              "      <td>Silver</td>\n",
              "      <td>Billing Problem</td>\n",
              "      <td>0.0</td>\n",
              "      <td>0</td>\n",
              "      <td>0.0</td>\n",
              "      <td>17</td>\n",
              "      <td>1.0</td>\n",
              "      <td>0.0</td>\n",
              "    </tr>\n",
              "    <tr>\n",
              "      <th>4</th>\n",
              "      <td>No Churn</td>\n",
              "      <td>0</td>\n",
              "      <td>3805</td>\n",
              "      <td>5075.000000</td>\n",
              "      <td>12333.3333</td>\n",
              "      <td>23</td>\n",
              "      <td>-0.686047</td>\n",
              "      <td>Gold</td>\n",
              "      <td>Billing Problem</td>\n",
              "      <td>3.8</td>\n",
              "      <td>0</td>\n",
              "      <td>0.0</td>\n",
              "      <td>10</td>\n",
              "      <td>1.0</td>\n",
              "      <td>0.0</td>\n",
              "    </tr>\n",
              "  </tbody>\n",
              "</table>\n",
              "</div>"
            ],
            "text/plain": [
              "  Target Churn  ...  Avg Hours WorkOrderOpenned\n",
              "0     No Churn  ...                         0.0\n",
              "1        Churn  ...                         0.0\n",
              "2        Churn  ...                         0.0\n",
              "3     No Churn  ...                         0.0\n",
              "4     No Churn  ...                         0.0\n",
              "\n",
              "[5 rows x 15 columns]"
            ]
          },
          "metadata": {
            "tags": []
          },
          "execution_count": 8
        }
      ]
    },
    {
      "cell_type": "code",
      "metadata": {
        "colab": {
          "base_uri": "https://localhost:8080/"
        },
        "id": "F4NEbt-YRlQu",
        "outputId": "ed1b59e6-d555-446d-91e6-5eded3af403b"
      },
      "source": [
        "len(data)\n",
        "data.shape"
      ],
      "execution_count": 9,
      "outputs": [
        {
          "output_type": "execute_result",
          "data": {
            "text/plain": [
              "(4708, 15)"
            ]
          },
          "metadata": {
            "tags": []
          },
          "execution_count": 9
        }
      ]
    },
    {
      "cell_type": "code",
      "metadata": {
        "colab": {
          "base_uri": "https://localhost:8080/"
        },
        "id": "H4RjKoZMSR9Y",
        "outputId": "120b3695-eb2c-4a3c-983e-6df6fefcc5ae"
      },
      "source": [
        "#check for missing values\n",
        "data.isnull().values.any()"
      ],
      "execution_count": 13,
      "outputs": [
        {
          "output_type": "execute_result",
          "data": {
            "text/plain": [
              "True"
            ]
          },
          "metadata": {
            "tags": []
          },
          "execution_count": 13
        }
      ]
    },
    {
      "cell_type": "code",
      "metadata": {
        "colab": {
          "base_uri": "https://localhost:8080/"
        },
        "id": "Pp9Q4-ObSWxn",
        "outputId": "2942b8df-d1b0-4899-8183-6598c36c9313"
      },
      "source": [
        "#explore basic stats of columns in dataset\n",
        "data.info()"
      ],
      "execution_count": 14,
      "outputs": [
        {
          "output_type": "stream",
          "text": [
            "<class 'pandas.core.frame.DataFrame'>\n",
            "RangeIndex: 4708 entries, 0 to 4707\n",
            "Data columns (total 15 columns):\n",
            " #   Column                        Non-Null Count  Dtype  \n",
            "---  ------                        --------------  -----  \n",
            " 0   Target Churn                  4708 non-null   object \n",
            " 1   Target Code                   4708 non-null   int64  \n",
            " 2   Current Bill Amt              4708 non-null   int64  \n",
            " 3   Avg Calls                     4708 non-null   float64\n",
            " 4   Avg Calls Weekdays            4708 non-null   float64\n",
            " 5   Account Age                   4708 non-null   int64  \n",
            " 6   Percent Increase MOM          4708 non-null   float64\n",
            " 7   Acct Plan Subtype             4708 non-null   object \n",
            " 8   Complaint Code                4701 non-null   object \n",
            " 9   Avg Days Delinquent           4708 non-null   float64\n",
            " 10  Current TechSupComplaints     4708 non-null   int64  \n",
            " 11  Current Days OpenWorkOrders   4708 non-null   float64\n",
            " 12  Equipment Age                 4708 non-null   int64  \n",
            " 13  Condition of Current Handset  4264 non-null   float64\n",
            " 14  Avg Hours WorkOrderOpenned    4708 non-null   float64\n",
            "dtypes: float64(7), int64(5), object(3)\n",
            "memory usage: 551.8+ KB\n"
          ],
          "name": "stdout"
        }
      ]
    },
    {
      "cell_type": "code",
      "metadata": {
        "colab": {
          "base_uri": "https://localhost:8080/"
        },
        "id": "jUT35ie4Sa53",
        "outputId": "2cc4bf5f-0a75-4084-afe1-49981bbe53de"
      },
      "source": [
        "#clean column names\n",
        "data.columns=data.columns.str.replace(' ','_')\n",
        "data.columns"
      ],
      "execution_count": 15,
      "outputs": [
        {
          "output_type": "execute_result",
          "data": {
            "text/plain": [
              "Index(['Target_Churn', 'Target_Code', 'Current_Bill_Amt', 'Avg_Calls',\n",
              "       'Avg_Calls_Weekdays', 'Account_Age', 'Percent_Increase_MOM',\n",
              "       'Acct_Plan_Subtype', 'Complaint_Code', 'Avg_Days_Delinquent',\n",
              "       'Current_TechSupComplaints', 'Current_Days_OpenWorkOrders',\n",
              "       'Equipment_Age', 'Condition_of_Current_Handset',\n",
              "       'Avg_Hours_WorkOrderOpenned'],\n",
              "      dtype='object')"
            ]
          },
          "metadata": {
            "tags": []
          },
          "execution_count": 15
        }
      ]
    },
    {
      "cell_type": "code",
      "metadata": {
        "colab": {
          "base_uri": "https://localhost:8080/",
          "height": 317
        },
        "id": "NTYbMWWSSqKF",
        "outputId": "cefe8eb5-9fc5-4a20-8537-b8c7f548adba"
      },
      "source": [
        "data.describe()"
      ],
      "execution_count": 16,
      "outputs": [
        {
          "output_type": "execute_result",
          "data": {
            "text/html": [
              "<div>\n",
              "<style scoped>\n",
              "    .dataframe tbody tr th:only-of-type {\n",
              "        vertical-align: middle;\n",
              "    }\n",
              "\n",
              "    .dataframe tbody tr th {\n",
              "        vertical-align: top;\n",
              "    }\n",
              "\n",
              "    .dataframe thead th {\n",
              "        text-align: right;\n",
              "    }\n",
              "</style>\n",
              "<table border=\"1\" class=\"dataframe\">\n",
              "  <thead>\n",
              "    <tr style=\"text-align: right;\">\n",
              "      <th></th>\n",
              "      <th>Target_Code</th>\n",
              "      <th>Current_Bill_Amt</th>\n",
              "      <th>Avg_Calls</th>\n",
              "      <th>Avg_Calls_Weekdays</th>\n",
              "      <th>Account_Age</th>\n",
              "      <th>Percent_Increase_MOM</th>\n",
              "      <th>Avg_Days_Delinquent</th>\n",
              "      <th>Current_TechSupComplaints</th>\n",
              "      <th>Current_Days_OpenWorkOrders</th>\n",
              "      <th>Equipment_Age</th>\n",
              "      <th>Condition_of_Current_Handset</th>\n",
              "      <th>Avg_Hours_WorkOrderOpenned</th>\n",
              "    </tr>\n",
              "  </thead>\n",
              "  <tbody>\n",
              "    <tr>\n",
              "      <th>count</th>\n",
              "      <td>4708.000000</td>\n",
              "      <td>4708.000000</td>\n",
              "      <td>4708.000000</td>\n",
              "      <td>4708.000000</td>\n",
              "      <td>4708.000000</td>\n",
              "      <td>4708.000000</td>\n",
              "      <td>4708.000000</td>\n",
              "      <td>4708.000000</td>\n",
              "      <td>4708.000000</td>\n",
              "      <td>4708.000000</td>\n",
              "      <td>4264.000000</td>\n",
              "      <td>4708.000000</td>\n",
              "    </tr>\n",
              "    <tr>\n",
              "      <th>mean</th>\n",
              "      <td>0.485769</td>\n",
              "      <td>19828.815845</td>\n",
              "      <td>9269.690314</td>\n",
              "      <td>38127.994973</td>\n",
              "      <td>26.079652</td>\n",
              "      <td>-0.005127</td>\n",
              "      <td>13.968564</td>\n",
              "      <td>0.414826</td>\n",
              "      <td>2.438828</td>\n",
              "      <td>10.811810</td>\n",
              "      <td>1.019231</td>\n",
              "      <td>0.936501</td>\n",
              "    </tr>\n",
              "    <tr>\n",
              "      <th>std</th>\n",
              "      <td>0.499851</td>\n",
              "      <td>17204.510108</td>\n",
              "      <td>10437.339850</td>\n",
              "      <td>39172.244943</td>\n",
              "      <td>7.149933</td>\n",
              "      <td>4.481852</td>\n",
              "      <td>10.789062</td>\n",
              "      <td>0.954549</td>\n",
              "      <td>20.197292</td>\n",
              "      <td>8.710548</td>\n",
              "      <td>0.144021</td>\n",
              "      <td>8.926752</td>\n",
              "    </tr>\n",
              "    <tr>\n",
              "      <th>min</th>\n",
              "      <td>0.000000</td>\n",
              "      <td>-690.000000</td>\n",
              "      <td>0.000000</td>\n",
              "      <td>0.000000</td>\n",
              "      <td>15.000000</td>\n",
              "      <td>-1.000000</td>\n",
              "      <td>0.000000</td>\n",
              "      <td>0.000000</td>\n",
              "      <td>0.000000</td>\n",
              "      <td>0.000000</td>\n",
              "      <td>1.000000</td>\n",
              "      <td>0.000000</td>\n",
              "    </tr>\n",
              "    <tr>\n",
              "      <th>25%</th>\n",
              "      <td>0.000000</td>\n",
              "      <td>12288.000000</td>\n",
              "      <td>2602.250002</td>\n",
              "      <td>13031.250025</td>\n",
              "      <td>20.000000</td>\n",
              "      <td>-0.574084</td>\n",
              "      <td>6.000000</td>\n",
              "      <td>0.000000</td>\n",
              "      <td>0.000000</td>\n",
              "      <td>4.000000</td>\n",
              "      <td>1.000000</td>\n",
              "      <td>0.000000</td>\n",
              "    </tr>\n",
              "    <tr>\n",
              "      <th>50%</th>\n",
              "      <td>0.000000</td>\n",
              "      <td>15254.000000</td>\n",
              "      <td>6396.333330</td>\n",
              "      <td>26765.833350</td>\n",
              "      <td>25.000000</td>\n",
              "      <td>-0.185280</td>\n",
              "      <td>12.400000</td>\n",
              "      <td>0.000000</td>\n",
              "      <td>0.000000</td>\n",
              "      <td>9.000000</td>\n",
              "      <td>1.000000</td>\n",
              "      <td>0.000000</td>\n",
              "    </tr>\n",
              "    <tr>\n",
              "      <th>75%</th>\n",
              "      <td>1.000000</td>\n",
              "      <td>22799.000000</td>\n",
              "      <td>12250.499975</td>\n",
              "      <td>50061.416675</td>\n",
              "      <td>32.000000</td>\n",
              "      <td>0.121823</td>\n",
              "      <td>19.300000</td>\n",
              "      <td>0.000000</td>\n",
              "      <td>0.000000</td>\n",
              "      <td>17.000000</td>\n",
              "      <td>1.000000</td>\n",
              "      <td>0.000000</td>\n",
              "    </tr>\n",
              "    <tr>\n",
              "      <th>max</th>\n",
              "      <td>1.000000</td>\n",
              "      <td>325127.000000</td>\n",
              "      <td>181786.000000</td>\n",
              "      <td>374457.667000</td>\n",
              "      <td>40.000000</td>\n",
              "      <td>210.100000</td>\n",
              "      <td>126.000000</td>\n",
              "      <td>11.000000</td>\n",
              "      <td>368.000000</td>\n",
              "      <td>39.000000</td>\n",
              "      <td>3.000000</td>\n",
              "      <td>297.500000</td>\n",
              "    </tr>\n",
              "  </tbody>\n",
              "</table>\n",
              "</div>"
            ],
            "text/plain": [
              "       Target_Code  ...  Avg_Hours_WorkOrderOpenned\n",
              "count  4708.000000  ...                 4708.000000\n",
              "mean      0.485769  ...                    0.936501\n",
              "std       0.499851  ...                    8.926752\n",
              "min       0.000000  ...                    0.000000\n",
              "25%       0.000000  ...                    0.000000\n",
              "50%       0.000000  ...                    0.000000\n",
              "75%       1.000000  ...                    0.000000\n",
              "max       1.000000  ...                  297.500000\n",
              "\n",
              "[8 rows x 12 columns]"
            ]
          },
          "metadata": {
            "tags": []
          },
          "execution_count": 16
        }
      ]
    },
    {
      "cell_type": "code",
      "metadata": {
        "colab": {
          "base_uri": "https://localhost:8080/",
          "height": 173
        },
        "id": "xLEWeSeVSsHb",
        "outputId": "f442d631-24da-4335-ea44-07d3a18141ff"
      },
      "source": [
        "#Check the descriptive statistics of Categorical variable\n",
        "data.describe(include='object')"
      ],
      "execution_count": 17,
      "outputs": [
        {
          "output_type": "execute_result",
          "data": {
            "text/html": [
              "<div>\n",
              "<style scoped>\n",
              "    .dataframe tbody tr th:only-of-type {\n",
              "        vertical-align: middle;\n",
              "    }\n",
              "\n",
              "    .dataframe tbody tr th {\n",
              "        vertical-align: top;\n",
              "    }\n",
              "\n",
              "    .dataframe thead th {\n",
              "        text-align: right;\n",
              "    }\n",
              "</style>\n",
              "<table border=\"1\" class=\"dataframe\">\n",
              "  <thead>\n",
              "    <tr style=\"text-align: right;\">\n",
              "      <th></th>\n",
              "      <th>Target_Churn</th>\n",
              "      <th>Acct_Plan_Subtype</th>\n",
              "      <th>Complaint_Code</th>\n",
              "    </tr>\n",
              "  </thead>\n",
              "  <tbody>\n",
              "    <tr>\n",
              "      <th>count</th>\n",
              "      <td>4708</td>\n",
              "      <td>4708</td>\n",
              "      <td>4701</td>\n",
              "    </tr>\n",
              "    <tr>\n",
              "      <th>unique</th>\n",
              "      <td>2</td>\n",
              "      <td>2</td>\n",
              "      <td>6</td>\n",
              "    </tr>\n",
              "    <tr>\n",
              "      <th>top</th>\n",
              "      <td>No Churn</td>\n",
              "      <td>Silver</td>\n",
              "      <td>Billing Problem</td>\n",
              "    </tr>\n",
              "    <tr>\n",
              "      <th>freq</th>\n",
              "      <td>2421</td>\n",
              "      <td>3914</td>\n",
              "      <td>2908</td>\n",
              "    </tr>\n",
              "  </tbody>\n",
              "</table>\n",
              "</div>"
            ],
            "text/plain": [
              "       Target_Churn Acct_Plan_Subtype   Complaint_Code\n",
              "count          4708              4708             4701\n",
              "unique            2                 2                6\n",
              "top        No Churn            Silver  Billing Problem\n",
              "freq           2421              3914             2908"
            ]
          },
          "metadata": {
            "tags": []
          },
          "execution_count": 17
        }
      ]
    },
    {
      "cell_type": "code",
      "metadata": {
        "colab": {
          "base_uri": "https://localhost:8080/",
          "height": 173
        },
        "id": "OldSh0nyS0S6",
        "outputId": "040b7e35-fefb-4957-dfca-0b7f3026be98"
      },
      "source": [
        "#Change the data type of Target_Code, \n",
        "#Condition_of_Current_Handset, and Current_TechSupComplaints columns from continuous to categorical object type:\n",
        "data['Target_Code']=data.Target_Code.astype('object')\n",
        "data['Condition_of_Current_Handset']=data.Condition_of_Current_Handset.astype('object')\n",
        "data['Current_TechSupComplaints']=data.Current_TechSupComplaints.astype('object')\n",
        "data['Target_Code']=data.Target_Code.astype('int64')\n",
        "data.describe(include='object')"
      ],
      "execution_count": 18,
      "outputs": [
        {
          "output_type": "execute_result",
          "data": {
            "text/html": [
              "<div>\n",
              "<style scoped>\n",
              "    .dataframe tbody tr th:only-of-type {\n",
              "        vertical-align: middle;\n",
              "    }\n",
              "\n",
              "    .dataframe tbody tr th {\n",
              "        vertical-align: top;\n",
              "    }\n",
              "\n",
              "    .dataframe thead th {\n",
              "        text-align: right;\n",
              "    }\n",
              "</style>\n",
              "<table border=\"1\" class=\"dataframe\">\n",
              "  <thead>\n",
              "    <tr style=\"text-align: right;\">\n",
              "      <th></th>\n",
              "      <th>Target_Churn</th>\n",
              "      <th>Acct_Plan_Subtype</th>\n",
              "      <th>Complaint_Code</th>\n",
              "      <th>Current_TechSupComplaints</th>\n",
              "      <th>Condition_of_Current_Handset</th>\n",
              "    </tr>\n",
              "  </thead>\n",
              "  <tbody>\n",
              "    <tr>\n",
              "      <th>count</th>\n",
              "      <td>4708</td>\n",
              "      <td>4708</td>\n",
              "      <td>4701</td>\n",
              "      <td>4708</td>\n",
              "      <td>4264.0</td>\n",
              "    </tr>\n",
              "    <tr>\n",
              "      <th>unique</th>\n",
              "      <td>2</td>\n",
              "      <td>2</td>\n",
              "      <td>6</td>\n",
              "      <td>11</td>\n",
              "      <td>3.0</td>\n",
              "    </tr>\n",
              "    <tr>\n",
              "      <th>top</th>\n",
              "      <td>No Churn</td>\n",
              "      <td>Silver</td>\n",
              "      <td>Billing Problem</td>\n",
              "      <td>0</td>\n",
              "      <td>1.0</td>\n",
              "    </tr>\n",
              "    <tr>\n",
              "      <th>freq</th>\n",
              "      <td>2421</td>\n",
              "      <td>3914</td>\n",
              "      <td>2908</td>\n",
              "      <td>3589</td>\n",
              "      <td>4186.0</td>\n",
              "    </tr>\n",
              "  </tbody>\n",
              "</table>\n",
              "</div>"
            ],
            "text/plain": [
              "       Target_Churn  ... Condition_of_Current_Handset\n",
              "count          4708  ...                       4264.0\n",
              "unique            2  ...                          3.0\n",
              "top        No Churn  ...                          1.0\n",
              "freq           2421  ...                       4186.0\n",
              "\n",
              "[4 rows x 5 columns]"
            ]
          },
          "metadata": {
            "tags": []
          },
          "execution_count": 18
        }
      ]
    },
    {
      "cell_type": "code",
      "metadata": {
        "colab": {
          "base_uri": "https://localhost:8080/"
        },
        "id": "irap83nwTE8T",
        "outputId": "899756a3-c039-4056-b708-797e1074c145"
      },
      "source": [
        "#Check the percentage of missing values for each individual column\n",
        "round(data.isnull().sum()/len(data)*100,2)"
      ],
      "execution_count": 19,
      "outputs": [
        {
          "output_type": "execute_result",
          "data": {
            "text/plain": [
              "Target_Churn                    0.00\n",
              "Target_Code                     0.00\n",
              "Current_Bill_Amt                0.00\n",
              "Avg_Calls                       0.00\n",
              "Avg_Calls_Weekdays              0.00\n",
              "Account_Age                     0.00\n",
              "Percent_Increase_MOM            0.00\n",
              "Acct_Plan_Subtype               0.00\n",
              "Complaint_Code                  0.15\n",
              "Avg_Days_Delinquent             0.00\n",
              "Current_TechSupComplaints       0.00\n",
              "Current_Days_OpenWorkOrders     0.00\n",
              "Equipment_Age                   0.00\n",
              "Condition_of_Current_Handset    9.43\n",
              "Avg_Hours_WorkOrderOpenned      0.00\n",
              "dtype: float64"
            ]
          },
          "metadata": {
            "tags": []
          },
          "execution_count": 19
        }
      ]
    },
    {
      "cell_type": "code",
      "metadata": {
        "colab": {
          "base_uri": "https://localhost:8080/",
          "height": 349
        },
        "id": "5hH26TkgTM8Y",
        "outputId": "e309182f-52b0-4e0c-b89e-c234f95ded6e"
      },
      "source": [
        "data.Complaint_Code.value_counts().plot(kind='bar', rot=-45)"
      ],
      "execution_count": 20,
      "outputs": [
        {
          "output_type": "execute_result",
          "data": {
            "text/plain": [
              "<matplotlib.axes._subplots.AxesSubplot at 0x7fb27f725668>"
            ]
          },
          "metadata": {
            "tags": []
          },
          "execution_count": 20
        },
        {
          "output_type": "display_data",
          "data": {
            "image/png": "[encoded data removed]",
            "text/plain": [
              "<Figure size 432x288 with 1 Axes>"
            ]
          },
          "metadata": {
            "tags": [],
            "needs_background": "light"
          }
        }
      ]
    },
    {
      "cell_type": "code",
      "metadata": {
        "colab": {
          "base_uri": "https://localhost:8080/",
          "height": 288
        },
        "id": "93d7ZiNBTd19",
        "outputId": "e54bad18-d324-4e16-b45a-7d1af6e3f41b"
      },
      "source": [
        "data.Condition_of_Current_Handset.value_counts().plot(kind='bar')"
      ],
      "execution_count": 21,
      "outputs": [
        {
          "output_type": "execute_result",
          "data": {
            "text/plain": [
              "<matplotlib.axes._subplots.AxesSubplot at 0x7fb27f671ef0>"
            ]
          },
          "metadata": {
            "tags": []
          },
          "execution_count": 21
        },
        {
          "output_type": "display_data",
          "data": {
            "image/png": "[encoded data removed]",
            "text/plain": [
              "<Figure size 432x288 with 1 Axes>"
            ]
          },
          "metadata": {
            "tags": [],
            "needs_background": "light"
          }
        }
      ]
    },
    {
      "cell_type": "code",
      "metadata": {
        "id": "A47RHTpoTwIz"
      },
      "source": [
        "data['Complaint_Code']=data['Complaint_Code'].fillna(value='Billing Problem')\n",
        "data['Condition_of_Current_Handset']=data['Condition_of_Current_Handset'].fillna(value=1)\n",
        "data['Condition_of_Current_Handset']=data.Condition_of_Current_Handset.astype('object')"
      ],
      "execution_count": 22,
      "outputs": []
    },
    {
      "cell_type": "code",
      "metadata": {
        "colab": {
          "base_uri": "https://localhost:8080/",
          "height": 162
        },
        "id": "q8zi4_z3ULMf",
        "outputId": "2b7c3e19-73c8-4bac-d23d-1a877722bf6c"
      },
      "source": [
        "# explore Target_Churn\n",
        "data['Target_Churn'].value_counts(0)\n",
        "data['Target_Churn'].value_counts(1)*100\n",
        "summary_churn = data.groupby('Target_Churn')\n",
        "summary_churn.mean()"
      ],
      "execution_count": 23,
      "outputs": [
        {
          "output_type": "execute_result",
          "data": {
            "text/html": [
              "<div>\n",
              "<style scoped>\n",
              "    .dataframe tbody tr th:only-of-type {\n",
              "        vertical-align: middle;\n",
              "    }\n",
              "\n",
              "    .dataframe tbody tr th {\n",
              "        vertical-align: top;\n",
              "    }\n",
              "\n",
              "    .dataframe thead th {\n",
              "        text-align: right;\n",
              "    }\n",
              "</style>\n",
              "<table border=\"1\" class=\"dataframe\">\n",
              "  <thead>\n",
              "    <tr style=\"text-align: right;\">\n",
              "      <th></th>\n",
              "      <th>Target_Code</th>\n",
              "      <th>Current_Bill_Amt</th>\n",
              "      <th>Avg_Calls</th>\n",
              "      <th>Avg_Calls_Weekdays</th>\n",
              "      <th>Account_Age</th>\n",
              "      <th>Percent_Increase_MOM</th>\n",
              "      <th>Avg_Days_Delinquent</th>\n",
              "      <th>Current_Days_OpenWorkOrders</th>\n",
              "      <th>Equipment_Age</th>\n",
              "      <th>Avg_Hours_WorkOrderOpenned</th>\n",
              "    </tr>\n",
              "    <tr>\n",
              "      <th>Target_Churn</th>\n",
              "      <th></th>\n",
              "      <th></th>\n",
              "      <th></th>\n",
              "      <th></th>\n",
              "      <th></th>\n",
              "      <th></th>\n",
              "      <th></th>\n",
              "      <th></th>\n",
              "      <th></th>\n",
              "      <th></th>\n",
              "    </tr>\n",
              "  </thead>\n",
              "  <tbody>\n",
              "    <tr>\n",
              "      <th>Churn</th>\n",
              "      <td>1.0</td>\n",
              "      <td>20182.709226</td>\n",
              "      <td>9348.878298</td>\n",
              "      <td>37524.030899</td>\n",
              "      <td>25.418452</td>\n",
              "      <td>-0.281309</td>\n",
              "      <td>19.075339</td>\n",
              "      <td>2.498907</td>\n",
              "      <td>11.191517</td>\n",
              "      <td>0.960482</td>\n",
              "    </tr>\n",
              "    <tr>\n",
              "      <th>No Churn</th>\n",
              "      <td>0.0</td>\n",
              "      <td>19494.510120</td>\n",
              "      <td>9194.885309</td>\n",
              "      <td>38698.530221</td>\n",
              "      <td>26.704254</td>\n",
              "      <td>0.255769</td>\n",
              "      <td>9.144444</td>\n",
              "      <td>2.382074</td>\n",
              "      <td>10.453119</td>\n",
              "      <td>0.913846</td>\n",
              "    </tr>\n",
              "  </tbody>\n",
              "</table>\n",
              "</div>"
            ],
            "text/plain": [
              "              Target_Code  ...  Avg_Hours_WorkOrderOpenned\n",
              "Target_Churn               ...                            \n",
              "Churn                 1.0  ...                    0.960482\n",
              "No Churn              0.0  ...                    0.913846\n",
              "\n",
              "[2 rows x 10 columns]"
            ]
          },
          "metadata": {
            "tags": []
          },
          "execution_count": 23
        }
      ]
    },
    {
      "cell_type": "code",
      "metadata": {
        "colab": {
          "base_uri": "https://localhost:8080/",
          "height": 997
        },
        "id": "S2pYUE6pUXAO",
        "outputId": "87a24bf1-3b0e-4b3a-9ba2-d8dcb3a6c5e6"
      },
      "source": [
        "corr = data.corr()\n",
        "plt.figure(figsize=(15,8))\n",
        "sns.heatmap(corr, \n",
        "            xticklabels=corr.columns.values,\n",
        "            yticklabels=corr.columns.values,annot=True)\n",
        "corr"
      ],
      "execution_count": 24,
      "outputs": [
        {
          "output_type": "execute_result",
          "data": {
            "text/html": [
              "<div>\n",
              "<style scoped>\n",
              "    .dataframe tbody tr th:only-of-type {\n",
              "        vertical-align: middle;\n",
              "    }\n",
              "\n",
              "    .dataframe tbody tr th {\n",
              "        vertical-align: top;\n",
              "    }\n",
              "\n",
              "    .dataframe thead th {\n",
              "        text-align: right;\n",
              "    }\n",
              "</style>\n",
              "<table border=\"1\" class=\"dataframe\">\n",
              "  <thead>\n",
              "    <tr style=\"text-align: right;\">\n",
              "      <th></th>\n",
              "      <th>Target_Code</th>\n",
              "      <th>Current_Bill_Amt</th>\n",
              "      <th>Avg_Calls</th>\n",
              "      <th>Avg_Calls_Weekdays</th>\n",
              "      <th>Account_Age</th>\n",
              "      <th>Percent_Increase_MOM</th>\n",
              "      <th>Avg_Days_Delinquent</th>\n",
              "      <th>Current_Days_OpenWorkOrders</th>\n",
              "      <th>Equipment_Age</th>\n",
              "      <th>Avg_Hours_WorkOrderOpenned</th>\n",
              "    </tr>\n",
              "  </thead>\n",
              "  <tbody>\n",
              "    <tr>\n",
              "      <th>Target_Code</th>\n",
              "      <td>1.000000</td>\n",
              "      <td>0.019995</td>\n",
              "      <td>0.007375</td>\n",
              "      <td>-0.014987</td>\n",
              "      <td>-0.089890</td>\n",
              "      <td>-0.059899</td>\n",
              "      <td>0.460092</td>\n",
              "      <td>0.002891</td>\n",
              "      <td>0.042373</td>\n",
              "      <td>0.002611</td>\n",
              "    </tr>\n",
              "    <tr>\n",
              "      <th>Current_Bill_Amt</th>\n",
              "      <td>0.019995</td>\n",
              "      <td>1.000000</td>\n",
              "      <td>0.352535</td>\n",
              "      <td>0.428040</td>\n",
              "      <td>0.003292</td>\n",
              "      <td>-0.015588</td>\n",
              "      <td>0.024285</td>\n",
              "      <td>0.076418</td>\n",
              "      <td>-0.040732</td>\n",
              "      <td>0.016852</td>\n",
              "    </tr>\n",
              "    <tr>\n",
              "      <th>Avg_Calls</th>\n",
              "      <td>0.007375</td>\n",
              "      <td>0.352535</td>\n",
              "      <td>1.000000</td>\n",
              "      <td>0.727226</td>\n",
              "      <td>-0.023758</td>\n",
              "      <td>-0.040899</td>\n",
              "      <td>0.019407</td>\n",
              "      <td>0.078428</td>\n",
              "      <td>-0.099348</td>\n",
              "      <td>0.013441</td>\n",
              "    </tr>\n",
              "    <tr>\n",
              "      <th>Avg_Calls_Weekdays</th>\n",
              "      <td>-0.014987</td>\n",
              "      <td>0.428040</td>\n",
              "      <td>0.727226</td>\n",
              "      <td>1.000000</td>\n",
              "      <td>0.029957</td>\n",
              "      <td>-0.044496</td>\n",
              "      <td>0.017134</td>\n",
              "      <td>0.065318</td>\n",
              "      <td>-0.103769</td>\n",
              "      <td>0.013577</td>\n",
              "    </tr>\n",
              "    <tr>\n",
              "      <th>Account_Age</th>\n",
              "      <td>-0.089890</td>\n",
              "      <td>0.003292</td>\n",
              "      <td>-0.023758</td>\n",
              "      <td>0.029957</td>\n",
              "      <td>1.000000</td>\n",
              "      <td>-0.004022</td>\n",
              "      <td>-0.047542</td>\n",
              "      <td>-0.026270</td>\n",
              "      <td>0.073503</td>\n",
              "      <td>0.005059</td>\n",
              "    </tr>\n",
              "    <tr>\n",
              "      <th>Percent_Increase_MOM</th>\n",
              "      <td>-0.059899</td>\n",
              "      <td>-0.015588</td>\n",
              "      <td>-0.040899</td>\n",
              "      <td>-0.044496</td>\n",
              "      <td>-0.004022</td>\n",
              "      <td>1.000000</td>\n",
              "      <td>0.049768</td>\n",
              "      <td>-0.003013</td>\n",
              "      <td>-0.003819</td>\n",
              "      <td>-0.008848</td>\n",
              "    </tr>\n",
              "    <tr>\n",
              "      <th>Avg_Days_Delinquent</th>\n",
              "      <td>0.460092</td>\n",
              "      <td>0.024285</td>\n",
              "      <td>0.019407</td>\n",
              "      <td>0.017134</td>\n",
              "      <td>-0.047542</td>\n",
              "      <td>0.049768</td>\n",
              "      <td>1.000000</td>\n",
              "      <td>-0.001686</td>\n",
              "      <td>0.014047</td>\n",
              "      <td>0.000168</td>\n",
              "    </tr>\n",
              "    <tr>\n",
              "      <th>Current_Days_OpenWorkOrders</th>\n",
              "      <td>0.002891</td>\n",
              "      <td>0.076418</td>\n",
              "      <td>0.078428</td>\n",
              "      <td>0.065318</td>\n",
              "      <td>-0.026270</td>\n",
              "      <td>-0.003013</td>\n",
              "      <td>-0.001686</td>\n",
              "      <td>1.000000</td>\n",
              "      <td>-0.037599</td>\n",
              "      <td>0.029384</td>\n",
              "    </tr>\n",
              "    <tr>\n",
              "      <th>Equipment_Age</th>\n",
              "      <td>0.042373</td>\n",
              "      <td>-0.040732</td>\n",
              "      <td>-0.099348</td>\n",
              "      <td>-0.103769</td>\n",
              "      <td>0.073503</td>\n",
              "      <td>-0.003819</td>\n",
              "      <td>0.014047</td>\n",
              "      <td>-0.037599</td>\n",
              "      <td>1.000000</td>\n",
              "      <td>-0.014347</td>\n",
              "    </tr>\n",
              "    <tr>\n",
              "      <th>Avg_Hours_WorkOrderOpenned</th>\n",
              "      <td>0.002611</td>\n",
              "      <td>0.016852</td>\n",
              "      <td>0.013441</td>\n",
              "      <td>0.013577</td>\n",
              "      <td>0.005059</td>\n",
              "      <td>-0.008848</td>\n",
              "      <td>0.000168</td>\n",
              "      <td>0.029384</td>\n",
              "      <td>-0.014347</td>\n",
              "      <td>1.000000</td>\n",
              "    </tr>\n",
              "  </tbody>\n",
              "</table>\n",
              "</div>"
            ],
            "text/plain": [
              "                             Target_Code  ...  Avg_Hours_WorkOrderOpenned\n",
              "Target_Code                     1.000000  ...                    0.002611\n",
              "Current_Bill_Amt                0.019995  ...                    0.016852\n",
              "Avg_Calls                       0.007375  ...                    0.013441\n",
              "Avg_Calls_Weekdays             -0.014987  ...                    0.013577\n",
              "Account_Age                    -0.089890  ...                    0.005059\n",
              "Percent_Increase_MOM           -0.059899  ...                   -0.008848\n",
              "Avg_Days_Delinquent             0.460092  ...                    0.000168\n",
              "Current_Days_OpenWorkOrders     0.002891  ...                    0.029384\n",
              "Equipment_Age                   0.042373  ...                   -0.014347\n",
              "Avg_Hours_WorkOrderOpenned      0.002611  ...                    1.000000\n",
              "\n",
              "[10 rows x 10 columns]"
            ]
          },
          "metadata": {
            "tags": []
          },
          "execution_count": 24
        },
        {
          "output_type": "display_data",
          "data": {
            "image/png": "[encoded data removed]",
            "text/plain": [
              "<Figure size 1080x576 with 2 Axes>"
            ]
          },
          "metadata": {
            "tags": [],
            "needs_background": "light"
          }
        }
      ]
    },
    {
      "cell_type": "markdown",
      "metadata": {
        "id": "3OEeW9aYU6M1"
      },
      "source": [
        "From the plots, we see that Avg_Calls_Weekdays and Avg_Calls are highly correlated, which makes sense since they represent the same thing—average calls. Current_Bill_Amt seems to be correlated with both variables, which is as expected, since the more you talk the higher your bill will be."
      ]
    },
    {
      "cell_type": "markdown",
      "metadata": {
        "id": "URNN22NrVyrS"
      },
      "source": [
        "### Univariate analysis\n",
        "\n"
      ]
    },
    {
      "cell_type": "code",
      "metadata": {
        "colab": {
          "base_uri": "https://localhost:8080/",
          "height": 422
        },
        "id": "INl0MZh-Ug3V",
        "outputId": "5666be1d-b5d1-44a1-ed8f-2f010aa9a38b"
      },
      "source": [
        "f, axes = plt.subplots(ncols=3, figsize=(15, 6))\n",
        "sns.distplot(data.Avg_Calls_Weekdays, kde=True,  color=\"darkgreen\", ax=axes[0]).set_title('Avg_Calls_Weekdays')\n",
        "axes[0].set_ylabel('No of Customers')\n",
        "sns.distplot(data.Avg_Calls, kde=True,color=\"darkblue\", ax=axes[1]).set_title('Avg_Calls')\n",
        "axes[1].set_ylabel('No of Customers')\n",
        "sns.distplot(data.Current_Bill_Amt, kde=True, color=\"maroon\", ax=axes[2]).set_title('Current_Bill_Amt')\n",
        "axes[2].set_ylabel('No of Customers')"
      ],
      "execution_count": 25,
      "outputs": [
        {
          "output_type": "execute_result",
          "data": {
            "text/plain": [
              "Text(0, 0.5, 'No of Customers')"
            ]
          },
          "metadata": {
            "tags": []
          },
          "execution_count": 25
        },
        {
          "output_type": "display_data",
          "data": {
            "image/png": "[encoded data removed]",
            "text/plain": [
              "<Figure size 1080x432 with 3 Axes>"
            ]
          },
          "metadata": {
            "tags": [],
            "needs_background": "light"
          }
        }
      ]
    },
    {
      "cell_type": "markdown",
      "metadata": {
        "id": "7UkXtLV1Vqy2"
      },
      "source": [
        " ### Bivariate analysis"
      ]
    },
    {
      "cell_type": "code",
      "metadata": {
        "colab": {
          "base_uri": "https://localhost:8080/",
          "height": 530
        },
        "id": "wkk7XZTgVL5R",
        "outputId": "620d87f9-6d4b-45eb-c157-aee3d61b63da"
      },
      "source": [
        "# plot of Complaint_Code versus Target_Churn\n",
        "plt.figure(figsize=(12,8))\n",
        "p=sns.countplot(y=\"Complaint_Code\", hue='Target_Churn', data=data,palette=\"Set2\")\n",
        "legend = p.get_legend()\n",
        "legend_txt = legend.texts\n",
        "legend_txt[0].set_text(\"No Churn\")\n",
        "legend_txt[1].set_text(\"Churn\")\n",
        "p.set_title('Customer Complaint Code Distribution')"
      ],
      "execution_count": 26,
      "outputs": [
        {
          "output_type": "execute_result",
          "data": {
            "text/plain": [
              "Text(0.5, 1.0, 'Customer Complaint Code Distribution')"
            ]
          },
          "metadata": {
            "tags": []
          },
          "execution_count": 26
        },
        {
          "output_type": "display_data",
          "data": {
            "image/png": "[encoded data removed]",
            "text/plain": [
              "<Figure size 864x576 with 1 Axes>"
            ]
          },
          "metadata": {
            "tags": [],
            "needs_background": "light"
          }
        }
      ]
    },
    {
      "cell_type": "markdown",
      "metadata": {
        "id": "QWteoRSGWNQv"
      },
      "source": [
        "As observed, Call_Quality and Billing Problem become reasons affecting customers to churn."
      ]
    },
    {
      "cell_type": "code",
      "metadata": {
        "colab": {
          "base_uri": "https://localhost:8080/",
          "height": 421
        },
        "id": "XzgEbMD3WEy3",
        "outputId": "d277c967-a12b-439c-c27d-6c99a564d5fe"
      },
      "source": [
        "# plot of Current_TechSupComplaints versus Target_Churn \n",
        "plt.figure(figsize=(12,6))\n",
        "p=sns.countplot(y=\"Current_TechSupComplaints\", hue='Target_Churn', data=data,palette=\"Set2\")\n",
        "legend = p.get_legend()\n",
        "legend_txt = legend.texts\n",
        "legend_txt[0].set_text(\"No Churn\")\n",
        "legend_txt[1].set_text(\"Churn\")\n",
        "p.set_title('Customer Current_TechSupComplaints Distribution')"
      ],
      "execution_count": 27,
      "outputs": [
        {
          "output_type": "execute_result",
          "data": {
            "text/plain": [
              "Text(0.5, 1.0, 'Customer Current_TechSupComplaints Distribution')"
            ]
          },
          "metadata": {
            "tags": []
          },
          "execution_count": 27
        },
        {
          "output_type": "display_data",
          "data": {
            "image/png": "[encoded data removed]",
            "text/plain": [
              "<Figure size 864x432 with 1 Axes>"
            ]
          },
          "metadata": {
            "tags": [],
            "needs_background": "light"
          }
        }
      ]
    },
    {
      "cell_type": "code",
      "metadata": {
        "colab": {
          "base_uri": "https://localhost:8080/",
          "height": 312
        },
        "id": "y_VqvKPgWwLw",
        "outputId": "2bdcacdb-520c-47d4-fd31-e11427f14672"
      },
      "source": [
        "# plot of Avg_Days_Delinquent versus Target_Code\n",
        "plt.figure(figsize=(15,4))\n",
        "ax=sns.kdeplot(data.loc[(data['Target_Code'] == 0),'Avg_Days_Delinquent'] , color=sns.color_palette(\"Set2\")[0],shade=True,label='no churn')\n",
        "ax=sns.kdeplot(data.loc[(data['Target_Code'] == 1),'Avg_Days_Delinquent'] , color=sns.color_palette(\"Set2\")[1],shade=True,label='churn')\n",
        "ax.set(xlabel='Average No of Days Deliquent/Defaluted from paying', ylabel='Frequency')\n",
        "plt.title('Average No of Days Deliquent/Defaluted from paying - churn vs no churn')\n",
        "plt.legend()"
      ],
      "execution_count": 28,
      "outputs": [
        {
          "output_type": "execute_result",
          "data": {
            "text/plain": [
              "<matplotlib.legend.Legend at 0x7fb27d568dd8>"
            ]
          },
          "metadata": {
            "tags": []
          },
          "execution_count": 28
        },
        {
          "output_type": "display_data",
          "data": {
            "image/png": "[encoded data removed]",
            "text/plain": [
              "<Figure size 1080x288 with 1 Axes>"
            ]
          },
          "metadata": {
            "tags": [],
            "needs_background": "light"
          }
        }
      ]
    },
    {
      "cell_type": "markdown",
      "metadata": {
        "id": "7UtfqI56XO7c"
      },
      "source": [
        "`As observed, if the average number of days delinquent is more than 16 days, customers start to churn.`"
      ]
    },
    {
      "cell_type": "code",
      "metadata": {
        "colab": {
          "base_uri": "https://localhost:8080/",
          "height": 313
        },
        "id": "RcPzXikRXGBW",
        "outputId": "430d0107-39c5-4e60-dfee-8ed328a2419e"
      },
      "source": [
        "# plot of Account_Age versus Target_Code\n",
        "plt.figure(figsize=(15,4))\n",
        "ax=sns.kdeplot(data.loc[(data['Target_Code'] == 0),'Account_Age'] , color=sns.color_palette(\"Set2\")[0],shade=True,label='no churn')\n",
        "ax=sns.kdeplot(data.loc[(data['Target_Code'] == 1),'Account_Age'] , color=sns.color_palette(\"Set2\")[1],shade=True, label='churn')\n",
        "ax.set(xlabel='Account_Age', ylabel='Frequency')\n",
        "plt.title('Account_Age - churn vs no churn')\n",
        "plt.legend()"
      ],
      "execution_count": 29,
      "outputs": [
        {
          "output_type": "execute_result",
          "data": {
            "text/plain": [
              "<matplotlib.legend.Legend at 0x7fb27d5a5dd8>"
            ]
          },
          "metadata": {
            "tags": []
          },
          "execution_count": 29
        },
        {
          "output_type": "display_data",
          "data": {
            "image/png": "[encoded data removed]",
            "text/plain": [
              "<Figure size 1080x288 with 1 Axes>"
            ]
          },
          "metadata": {
            "tags": [],
            "needs_background": "light"
          }
        }
      ]
    },
    {
      "cell_type": "markdown",
      "metadata": {
        "id": "JhTHa8oreyJX"
      },
      "source": [
        "`During the initial 15-20 days of opening an account, the amount of customer churn increases; however, after 20 days, the churn rate declines`\n"
      ]
    },
    {
      "cell_type": "code",
      "metadata": {
        "colab": {
          "base_uri": "https://localhost:8080/",
          "height": 313
        },
        "id": "WjiIXwxeXsNd",
        "outputId": "98391cf0-b868-4196-a1ed-a7a35b53bae7"
      },
      "source": [
        "# plot of Percent_Increase_MOM vs Target_Code\n",
        "plt.figure(figsize=(15,4))\n",
        "ax=sns.kdeplot(data.loc[(data['Target_Code'] == 0),'Percent_Increase_MOM'] , color=sns.color_palette(\"Set2\")[0],shade=True,label='no churn')\n",
        "ax=sns.kdeplot(data.loc[(data['Target_Code'] == 1),'Percent_Increase_MOM'] , color=sns.color_palette(\"Set2\")[1],shade=True, label='churn')\n",
        "ax.set(xlabel='Percent_Increase_MOM', ylabel='Frequency')\n",
        "plt.title('Percent_Increase_MOM- churn vs no churn')\n",
        "plt.legend()"
      ],
      "execution_count": 30,
      "outputs": [
        {
          "output_type": "execute_result",
          "data": {
            "text/plain": [
              "<matplotlib.legend.Legend at 0x7fb27d4455c0>"
            ]
          },
          "metadata": {
            "tags": []
          },
          "execution_count": 30
        },
        {
          "output_type": "display_data",
          "data": {
            "image/png": "[encoded data removed]",
            "text/plain": [
              "<Figure size 1080x288 with 1 Axes>"
            ]
          },
          "metadata": {
            "tags": [],
            "needs_background": "light"
          }
        }
      ]
    },
    {
      "cell_type": "markdown",
      "metadata": {
        "id": "BPqa4SmZgHgJ"
      },
      "source": [
        "## Modeling and Interpreting data"
      ]
    },
    {
      "cell_type": "code",
      "metadata": {
        "id": "pvM2PYRdfifD"
      },
      "source": [
        "from sklearn.ensemble import RandomForestClassifier\n",
        "from sklearn.model_selection import train_test_split\n",
        "import numpy as np"
      ],
      "execution_count": 31,
      "outputs": []
    },
    {
      "cell_type": "code",
      "metadata": {
        "colab": {
          "base_uri": "https://localhost:8080/",
          "height": 204
        },
        "id": "AaMOqCTmgQxE",
        "outputId": "142f411b-cab7-42de-db4c-a896f0ecadb9"
      },
      "source": [
        "# Encode the columns\n",
        "data[\"Acct_Plan_Subtype\"] = data[\"Acct_Plan_Subtype\"].astype('category').cat.codes\n",
        "data[\"Complaint_Code\"] = data[\"Complaint_Code\"].astype('category').cat.codes\n",
        "data[[\"Acct_Plan_Subtype\",\"Complaint_Code\"]].head()"
      ],
      "execution_count": 32,
      "outputs": [
        {
          "output_type": "execute_result",
          "data": {
            "text/html": [
              "<div>\n",
              "<style scoped>\n",
              "    .dataframe tbody tr th:only-of-type {\n",
              "        vertical-align: middle;\n",
              "    }\n",
              "\n",
              "    .dataframe tbody tr th {\n",
              "        vertical-align: top;\n",
              "    }\n",
              "\n",
              "    .dataframe thead th {\n",
              "        text-align: right;\n",
              "    }\n",
              "</style>\n",
              "<table border=\"1\" class=\"dataframe\">\n",
              "  <thead>\n",
              "    <tr style=\"text-align: right;\">\n",
              "      <th></th>\n",
              "      <th>Acct_Plan_Subtype</th>\n",
              "      <th>Complaint_Code</th>\n",
              "    </tr>\n",
              "  </thead>\n",
              "  <tbody>\n",
              "    <tr>\n",
              "      <th>0</th>\n",
              "      <td>0</td>\n",
              "      <td>0</td>\n",
              "    </tr>\n",
              "    <tr>\n",
              "      <th>1</th>\n",
              "      <td>1</td>\n",
              "      <td>4</td>\n",
              "    </tr>\n",
              "    <tr>\n",
              "      <th>2</th>\n",
              "      <td>0</td>\n",
              "      <td>0</td>\n",
              "    </tr>\n",
              "    <tr>\n",
              "      <th>3</th>\n",
              "      <td>1</td>\n",
              "      <td>0</td>\n",
              "    </tr>\n",
              "    <tr>\n",
              "      <th>4</th>\n",
              "      <td>0</td>\n",
              "      <td>0</td>\n",
              "    </tr>\n",
              "  </tbody>\n",
              "</table>\n",
              "</div>"
            ],
            "text/plain": [
              "   Acct_Plan_Subtype  Complaint_Code\n",
              "0                  0               0\n",
              "1                  1               4\n",
              "2                  0               0\n",
              "3                  1               0\n",
              "4                  0               0"
            ]
          },
          "metadata": {
            "tags": []
          },
          "execution_count": 32
        }
      ]
    },
    {
      "cell_type": "code",
      "metadata": {
        "id": "bIH6lWaPgUrS"
      },
      "source": [
        "# Split the data into a training and testing set:\n",
        "target = 'Target_Code'\n",
        "X = data.drop(['Target_Code','Target_Churn'], axis=1)\n",
        "y=data[target]\n",
        "X_train, X_test, y_train, y_test = train_test_split(X,y,test_size=0.15, random_state=123, stratify=y)"
      ],
      "execution_count": 33,
      "outputs": []
    },
    {
      "cell_type": "code",
      "metadata": {
        "colab": {
          "base_uri": "https://localhost:8080/",
          "height": 524
        },
        "id": "LGF043WWgZ85",
        "outputId": "a42f11ac-7167-460c-816f-9a6b89e3f008"
      },
      "source": [
        "#Perform feature selection using the random forest classifier:\n",
        "forest=RandomForestClassifier(n_estimators=500,random_state=1)\n",
        "forest.fit(X_train,y_train)\n",
        "importances=forest.feature_importances_\n",
        "features = data.drop(['Target_Code','Target_Churn'],axis=1).columns\n",
        "indices = np.argsort(importances)[::-1]\n",
        "plt.figure(figsize=(15,6))\n",
        "plt.title(\"Feature importances using Random Forest\")\n",
        "plt.bar(range(X_train.shape[1]), importances[indices],\n",
        "       color=\"r\",  align=\"center\")\n",
        "plt.xticks(range(X_train.shape[1]), features[indices], rotation=-45,fontsize=12)\n",
        "plt.xlim([-1, X_train.shape[1]])\n",
        "plt.show()\n"
      ],
      "execution_count": 34,
      "outputs": [
        {
          "output_type": "display_data",
          "data": {
            "image/png": "[encoded data removed]",
            "text/plain": [
              "<Figure size 1080x432 with 1 Axes>"
            ]
          },
          "metadata": {
            "tags": [],
            "needs_background": "light"
          }
        }
      ]
    },
    {
      "cell_type": "markdown",
      "metadata": {
        "id": "PoqZSrJpgxep"
      },
      "source": [
        "`Avg_Day_Delinquent and Percent_Increase_MOM are prominent features for modeling churn customers sinces they showed the most relationship rate to churn customers`\n",
        "\n"
      ]
    },
    {
      "cell_type": "code",
      "metadata": {
        "colab": {
          "base_uri": "https://localhost:8080/"
        },
        "id": "YgobaxrKgeaB",
        "outputId": "d25efebb-a8a2-4478-e8ba-533439d4fbfe"
      },
      "source": [
        "#fit Logistic Regression model with the top 7 features\n",
        "import statsmodels.api as sm\n",
        "top7_features = ['Avg_Days_Delinquent','Percent_Increase_MOM','Avg_Calls_Weekdays','Current_Bill_Amt','Avg_Calls','Complaint_Code','Account_Age']\n",
        "logReg = sm.Logit(y_train, X_train[top7_features])\n",
        "logistic_regression = logReg.fit()"
      ],
      "execution_count": 36,
      "outputs": [
        {
          "output_type": "stream",
          "text": [
            "Optimization terminated successfully.\n",
            "         Current function value: 0.551146\n",
            "         Iterations 8\n"
          ],
          "name": "stdout"
        }
      ]
    },
    {
      "cell_type": "code",
      "metadata": {
        "colab": {
          "base_uri": "https://localhost:8080/"
        },
        "id": "V3q3hdKbWb96",
        "outputId": "a86839e2-4781-427e-d988-0bd676e06603"
      },
      "source": [
        "#get logistic regression summary\n",
        "print(logistic_regression.summary())"
      ],
      "execution_count": 43,
      "outputs": [
        {
          "output_type": "stream",
          "text": [
            "                           Logit Regression Results                           \n",
            "==============================================================================\n",
            "Dep. Variable:            Target_Code   No. Observations:                 4001\n",
            "Model:                          Logit   Df Residuals:                     3994\n",
            "Method:                           MLE   Df Model:                            6\n",
            "Date:                Tue, 22 Dec 2020   Pseudo R-squ.:                  0.2044\n",
            "Time:                        21:31:07   Log-Likelihood:                -2205.1\n",
            "converged:                       True   LL-Null:                       -2771.7\n",
            "Covariance Type:            nonrobust   LLR p-value:                1.433e-241\n",
            "========================================================================================\n",
            "                           coef    std err          z      P>|z|      [0.025      0.975]\n",
            "----------------------------------------------------------------------------------------\n",
            "Avg_Days_Delinquent      0.1109      0.005     24.620      0.000       0.102       0.120\n",
            "Percent_Increase_MOM    -0.3922      0.049     -7.985      0.000      -0.488      -0.296\n",
            "Avg_Calls_Weekdays   -3.315e-06   1.43e-06     -2.313      0.021   -6.12e-06   -5.07e-07\n",
            "Current_Bill_Amt     -2.385e-07   2.36e-06     -0.101      0.919   -4.85e-06    4.38e-06\n",
            "Avg_Calls            -1.817e-06   5.05e-06     -0.360      0.719   -1.17e-05    8.08e-06\n",
            "Complaint_Code          -0.2084      0.032     -6.588      0.000      -0.270      -0.146\n",
            "Account_Age             -0.0479      0.003    -16.495      0.000      -0.054      -0.042\n",
            "========================================================================================\n"
          ],
          "name": "stdout"
        }
      ]
    },
    {
      "cell_type": "code",
      "metadata": {
        "colab": {
          "base_uri": "https://localhost:8080/"
        },
        "id": "b1wJyWWwhPTE",
        "outputId": "ae00aa49-f629-4983-c412-2f83157b8c69"
      },
      "source": [
        "#what are the prominent parameters?\n",
        "logistic_regression.params"
      ],
      "execution_count": 37,
      "outputs": [
        {
          "output_type": "execute_result",
          "data": {
            "text/plain": [
              "Avg_Days_Delinquent     1.109226e-01\n",
              "Percent_Increase_MOM   -3.922044e-01\n",
              "Avg_Calls_Weekdays     -3.315366e-06\n",
              "Current_Bill_Amt       -2.385475e-07\n",
              "Avg_Calls              -1.817086e-06\n",
              "Complaint_Code         -2.083688e-01\n",
              "Account_Age            -4.794911e-02\n",
              "dtype: float64"
            ]
          },
          "metadata": {
            "tags": []
          },
          "execution_count": 37
        }
      ]
    },
    {
      "cell_type": "code",
      "metadata": {
        "id": "7XhRh-pWhnSP"
      },
      "source": [
        "#compute cost function\n",
        "coef = logistic_regression.params\n",
        "def y (coef, Avg_Days_Delinquent,Percent_Increase_MOM,Avg_Calls_Weekdays,Current_Bill_Amt,Avg_Calls,Complaint_Code,Account_Age) : \n",
        "    final_coef=coef[0]*Avg_Days_Delinquent+ coef[1]*Percent_Increase_MOM+coef[2]*Avg_Calls_Weekdays+coef[3]*Current_Bill_Amt+ coef[4]*Avg_Calls+coef[5]*Complaint_Code+coef[6]*Account_Age\n",
        "    return final_coef"
      ],
      "execution_count": 45,
      "outputs": []
    },
    {
      "cell_type": "code",
      "metadata": {
        "colab": {
          "base_uri": "https://localhost:8080/"
        },
        "id": "7JYdBnk-huIO",
        "outputId": "af2bda5a-2c80-4ba1-865b-4769853d47a5"
      },
      "source": [
        "# Avg_Days_Delinquent:40, Percent_Increase_MOM:5, Avg_Calls_Weekdays:39000, Current_Bill_Amt:12000, Avg_Calls:9000, Complaint_Code:0, Account_Age:17\n",
        "# calculate a data sample\n",
        "y1 = y(coef, 40, 5, 39000,12000,9000,0,17)\n",
        "p = np.exp(y1) / (1+np.exp(y1))\n",
        "p"
      ],
      "execution_count": 46,
      "outputs": [
        {
          "output_type": "execute_result",
          "data": {
            "text/plain": [
              "0.8193916658925811"
            ]
          },
          "metadata": {
            "tags": []
          },
          "execution_count": 46
        }
      ]
    },
    {
      "cell_type": "markdown",
      "metadata": {
        "id": "GWjRj5nTiT-J"
      },
      "source": [
        "# Fine-Tuning Classification Algorithms\n"
      ]
    },
    {
      "cell_type": "markdown",
      "metadata": {
        "id": "lcJu1U0oigEc"
      },
      "source": [
        "## Implementing Different Classification Algorithms"
      ]
    },
    {
      "cell_type": "code",
      "metadata": {
        "colab": {
          "base_uri": "https://localhost:8080/"
        },
        "id": "B_t264Flh199",
        "outputId": "2d31ee09-27fc-4b1b-8678-7cfc9b9ac8a7"
      },
      "source": [
        "#Fit Logistic Regression model\n",
        "from sklearn.linear_model import LogisticRegression\n",
        "clf_logistic = LogisticRegression(random_state=0, solver='lbfgs').fit(X_train[top7_features], y_train)\n",
        "clf_logistic"
      ],
      "execution_count": 47,
      "outputs": [
        {
          "output_type": "execute_result",
          "data": {
            "text/plain": [
              "LogisticRegression(C=1.0, class_weight=None, dual=False, fit_intercept=True,\n",
              "                   intercept_scaling=1, l1_ratio=None, max_iter=100,\n",
              "                   multi_class='auto', n_jobs=None, penalty='l2',\n",
              "                   random_state=0, solver='lbfgs', tol=0.0001, verbose=0,\n",
              "                   warm_start=False)"
            ]
          },
          "metadata": {
            "tags": []
          },
          "execution_count": 47
        }
      ]
    },
    {
      "cell_type": "code",
      "metadata": {
        "colab": {
          "base_uri": "https://localhost:8080/"
        },
        "id": "TNmJ-gxKimFq",
        "outputId": "ccf423ce-6070-4898-9976-107236d99e7e"
      },
      "source": [
        "#get LR model score\n",
        "clf_logistic.score(X_test[top7_features], y_test)"
      ],
      "execution_count": 48,
      "outputs": [
        {
          "output_type": "execute_result",
          "data": {
            "text/plain": [
              "0.7454031117397454"
            ]
          },
          "metadata": {
            "tags": []
          },
          "execution_count": 48
        }
      ]
    },
    {
      "cell_type": "code",
      "metadata": {
        "colab": {
          "base_uri": "https://localhost:8080/"
        },
        "id": "FqBGt5nCimeG",
        "outputId": "3a2c255f-dde8-45be-e423-17ddfb0cfd0a"
      },
      "source": [
        "#Fit SVM model\n",
        "from sklearn import svm\n",
        "clf_svm=svm.SVC(kernel='linear', C=1)\n",
        "clf_svm.fit(X_train[top7_features],y_train)"
      ],
      "execution_count": 49,
      "outputs": [
        {
          "output_type": "execute_result",
          "data": {
            "text/plain": [
              "SVC(C=1, break_ties=False, cache_size=200, class_weight=None, coef0=0.0,\n",
              "    decision_function_shape='ovr', degree=3, gamma='scale', kernel='linear',\n",
              "    max_iter=-1, probability=False, random_state=None, shrinking=True,\n",
              "    tol=0.001, verbose=False)"
            ]
          },
          "metadata": {
            "tags": []
          },
          "execution_count": 49
        }
      ]
    },
    {
      "cell_type": "code",
      "metadata": {
        "colab": {
          "base_uri": "https://localhost:8080/"
        },
        "id": "O93hqSoEizhE",
        "outputId": "357d3ed7-37d0-4910-ef4d-8c91e35d2659"
      },
      "source": [
        "clf_svm.score(X_test[top7_features], y_test)"
      ],
      "execution_count": 50,
      "outputs": [
        {
          "output_type": "execute_result",
          "data": {
            "text/plain": [
              "0.7652050919377652"
            ]
          },
          "metadata": {
            "tags": []
          },
          "execution_count": 50
        }
      ]
    },
    {
      "cell_type": "code",
      "metadata": {
        "colab": {
          "base_uri": "https://localhost:8080/"
        },
        "id": "NqNW5S4Ci5Kj",
        "outputId": "fa43d0d3-d91c-45ef-f201-ee3f37c0e206"
      },
      "source": [
        "#Fit decision tree model and get score\n",
        "from sklearn import tree\n",
        "start = time()\n",
        "clf_decision = tree.DecisionTreeClassifier()\n",
        "clf_decision.fit(X_train[top7_features],y_train)\n",
        "print(\"Train time eslapsed in\", round(time() - start,2))\n",
        "clf_decision.score(X_test[top7_features], y_test)"
      ],
      "execution_count": 57,
      "outputs": [
        {
          "output_type": "stream",
          "text": [
            "Train time eslapsed in 0.03\n"
          ],
          "name": "stdout"
        },
        {
          "output_type": "execute_result",
          "data": {
            "text/plain": [
              "0.7637906647807637"
            ]
          },
          "metadata": {
            "tags": []
          },
          "execution_count": 57
        }
      ]
    },
    {
      "cell_type": "code",
      "metadata": {
        "colab": {
          "base_uri": "https://localhost:8080/"
        },
        "id": "r-UvQS8ajRK5",
        "outputId": "37ededb9-bbf5-4164-c3d3-8531e211b1ec"
      },
      "source": [
        "#Fit random forest model and get score\n",
        "from sklearn.ensemble import RandomForestClassifier\n",
        "clf_random = RandomForestClassifier(n_estimators=50, max_depth=None, min_samples_split=7, random_state=0)\n",
        "clf_random.fit(X_train[top7_features], y_train)\n",
        "print(\"Train time eslapsed in\", time() - start)\n",
        "clf_random.score(X_test[top7_features], y_test)"
      ],
      "execution_count": 60,
      "outputs": [
        {
          "output_type": "stream",
          "text": [
            "Train time eslapsed in 33.676366090774536\n"
          ],
          "name": "stdout"
        },
        {
          "output_type": "execute_result",
          "data": {
            "text/plain": [
              "0.8118811881188119"
            ]
          },
          "metadata": {
            "tags": []
          },
          "execution_count": 60
        }
      ]
    },
    {
      "cell_type": "markdown",
      "metadata": {
        "id": "Rh5D9gJ6jf1L"
      },
      "source": [
        "## Tuning and Optimizing the Model\n"
      ]
    },
    {
      "cell_type": "code",
      "metadata": {
        "id": "EpjrPe8fjiP2"
      },
      "source": [
        "from sklearn import preprocessing\n",
        "## Features to transform\n",
        "top5_features=['Avg_Calls_Weekdays', 'Current_Bill_Amt', 'Avg_Calls', 'Account_Age','Avg_Days_Delinquent']\n",
        "## Features Left\n",
        "top2_features=['Percent_Increase_MOM','Complaint_Code']"
      ],
      "execution_count": 61,
      "outputs": []
    },
    {
      "cell_type": "code",
      "metadata": {
        "id": "Y6zoA6Mhl9lm"
      },
      "source": [
        "#standardize the five features\n",
        "scaler = preprocessing.StandardScaler().fit(X_train[top5_features])\n",
        "X_train_scalar=pd.DataFrame(scaler.transform(X_train[top5_features]),columns = X_train[top5_features].columns)"
      ],
      "execution_count": 62,
      "outputs": []
    },
    {
      "cell_type": "code",
      "metadata": {
        "id": "r3ahIc2-l9YU"
      },
      "source": [
        "#Create a variable X_train_scalar_combined, \n",
        "#combine the standardized five features with the two features (Percent_Increase_MOM and Complaint_Code), which were not standardized.\n",
        "X_train_scalar_combined=pd.concat([X_train_scalar,  X_train[top2_features].reset_index(drop=True)], axis=1, sort=False)"
      ],
      "execution_count": 63,
      "outputs": []
    },
    {
      "cell_type": "code",
      "metadata": {
        "id": "4Ok6alUmmv_a"
      },
      "source": [
        "#Apply the same scalar standardization to the test data (X_test_scalar_combined).\n",
        "X_test_scalar=pd.DataFrame(scaler.transform(X_test[top5_features]),columns = X_test[top5_features].columns)\n",
        "X_test_scalar_combined=pd.concat([X_test_scalar,  X_test[top2_features].reset_index(drop=True)], axis=1, sort=False)"
      ],
      "execution_count": 64,
      "outputs": []
    },
    {
      "cell_type": "code",
      "metadata": {
        "colab": {
          "base_uri": "https://localhost:8080/"
        },
        "id": "hsI3XzhhmwHG",
        "outputId": "df5fc88a-670a-4e5f-d6af-0ced10dd145a"
      },
      "source": [
        "#Fit the random forest model\n",
        "clf_random.fit(X_train_scalar_combined, y_train)"
      ],
      "execution_count": 65,
      "outputs": [
        {
          "output_type": "execute_result",
          "data": {
            "text/plain": [
              "RandomForestClassifier(bootstrap=True, ccp_alpha=0.0, class_weight=None,\n",
              "                       criterion='gini', max_depth=None, max_features='auto',\n",
              "                       max_leaf_nodes=None, max_samples=None,\n",
              "                       min_impurity_decrease=0.0, min_impurity_split=None,\n",
              "                       min_samples_leaf=1, min_samples_split=7,\n",
              "                       min_weight_fraction_leaf=0.0, n_estimators=50,\n",
              "                       n_jobs=None, oob_score=False, random_state=0, verbose=0,\n",
              "                       warm_start=False)"
            ]
          },
          "metadata": {
            "tags": []
          },
          "execution_count": 65
        }
      ]
    },
    {
      "cell_type": "code",
      "metadata": {
        "colab": {
          "base_uri": "https://localhost:8080/"
        },
        "id": "wuhcUKPHm5NM",
        "outputId": "d87876ad-996e-4c7d-cf58-3b68efd38814"
      },
      "source": [
        "clf_random.score(X_test_scalar_combined, y_test)"
      ],
      "execution_count": 66,
      "outputs": [
        {
          "output_type": "execute_result",
          "data": {
            "text/plain": [
              "0.8132956152758133"
            ]
          },
          "metadata": {
            "tags": []
          },
          "execution_count": 66
        }
      ]
    },
    {
      "cell_type": "code",
      "metadata": {
        "id": "9kfrKWdNm8Na"
      },
      "source": [
        "#define grid search starting parameters to find best parameter combination\n",
        "from sklearn.model_selection import GridSearchCV\n",
        "from sklearn.model_selection import StratifiedKFold\n",
        "parameters = [ {'min_samples_split': [4,5,7,9,10], 'n_estimators':[10,20,30,40,50,100,150,160,200,250,300],'max_depth': [2,5,7,10]}]"
      ],
      "execution_count": 67,
      "outputs": []
    },
    {
      "cell_type": "code",
      "metadata": {
        "id": "yu2TaaS_nLpv"
      },
      "source": [
        "#Use grid search CV with stratified k-fold to find out the best parameters\n",
        "clf_random_grid = GridSearchCV(RandomForestClassifier(), parameters, cv = StratifiedKFold(n_splits = 10))\n",
        "clf_random_grid.fit(X_train_scalar_combined, y_train)"
      ],
      "execution_count": null,
      "outputs": []
    },
    {
      "cell_type": "code",
      "metadata": {
        "colab": {
          "base_uri": "https://localhost:8080/"
        },
        "id": "ss_wpab-nVNW",
        "outputId": "e15e0cf8-fd2e-41a3-a178-45ce6abfa828"
      },
      "source": [
        "print('best score train:', clf_random_grid.best_score_)\n",
        "print('best parameters train: ', clf_random_grid.best_params_)"
      ],
      "execution_count": 45,
      "outputs": [
        {
          "output_type": "stream",
          "text": [
            "best score train: 0.8040586034912718\n",
            "best parameters train:  {'max_depth': 7, 'min_samples_split': 5, 'n_estimators': 50}\n"
          ],
          "name": "stdout"
        }
      ]
    },
    {
      "cell_type": "code",
      "metadata": {
        "colab": {
          "base_uri": "https://localhost:8080/"
        },
        "id": "0hIa5HjGnXiz",
        "outputId": "4d8205e8-7417-4e72-de13-68387095beba"
      },
      "source": [
        "clf_random_grid.score(X_test_scalar_combined, y_test)"
      ],
      "execution_count": 46,
      "outputs": [
        {
          "output_type": "execute_result",
          "data": {
            "text/plain": [
              "0.826025459688826"
            ]
          },
          "metadata": {
            "tags": []
          },
          "execution_count": 46
        }
      ]
    },
    {
      "cell_type": "markdown",
      "metadata": {
        "id": "3OpeyaKLndGP"
      },
      "source": [
        "## Comparison of the Models"
      ]
    },
    {
      "cell_type": "code",
      "metadata": {
        "id": "uBI4uPeenfn-"
      },
      "source": [
        "from sklearn.metrics import classification_report,confusion_matrix,accuracy_score\n",
        "from sklearn import metrics"
      ],
      "execution_count": 48,
      "outputs": []
    },
    {
      "cell_type": "code",
      "metadata": {
        "colab": {
          "base_uri": "https://localhost:8080/"
        },
        "id": "SzJI2zilnhrU",
        "outputId": "e0aa51a5-fedf-4e39-c359-983baebc46a0"
      },
      "source": [
        "#Fit the random forest classifier with the parameters obtained from grid search.\n",
        "clf_random_grid = RandomForestClassifier(n_estimators=100, \n",
        "                                         max_depth=7,\n",
        "                                         min_samples_split=10, \n",
        "                                         random_state=0)\n",
        "clf_random_grid.fit(X_train_scalar_combined, \n",
        "                    y_train)"
      ],
      "execution_count": 49,
      "outputs": [
        {
          "output_type": "execute_result",
          "data": {
            "text/plain": [
              "RandomForestClassifier(bootstrap=True, ccp_alpha=0.0, class_weight=None,\n",
              "                       criterion='gini', max_depth=7, max_features='auto',\n",
              "                       max_leaf_nodes=None, max_samples=None,\n",
              "                       min_impurity_decrease=0.0, min_impurity_split=None,\n",
              "                       min_samples_leaf=1, min_samples_split=10,\n",
              "                       min_weight_fraction_leaf=0.0, n_estimators=100,\n",
              "                       n_jobs=None, oob_score=False, random_state=0, verbose=0,\n",
              "                       warm_start=False)"
            ]
          },
          "metadata": {
            "tags": []
          },
          "execution_count": 49
        }
      ]
    },
    {
      "cell_type": "code",
      "metadata": {
        "id": "17LDVngNv6NM"
      },
      "source": [
        "y_pred=clf_random_grid.predict(X_test_scalar_combined)"
      ],
      "execution_count": 50,
      "outputs": []
    },
    {
      "cell_type": "code",
      "metadata": {
        "colab": {
          "base_uri": "https://localhost:8080/"
        },
        "id": "_4k50T-Rv-5q",
        "outputId": "81874366-7dbb-4710-a7c3-3ba66f99a500"
      },
      "source": [
        "#Fit the classification report.\n",
        "target_names = ['No Churn', 'Churn']\n",
        "print(classification_report(y_test, y_pred, target_names=target_names))"
      ],
      "execution_count": 51,
      "outputs": [
        {
          "output_type": "stream",
          "text": [
            "              precision    recall  f1-score   support\n",
            "\n",
            "    No Churn       0.85      0.80      0.82       364\n",
            "       Churn       0.80      0.85      0.82       343\n",
            "\n",
            "    accuracy                           0.82       707\n",
            "   macro avg       0.82      0.82      0.82       707\n",
            "weighted avg       0.82      0.82      0.82       707\n",
            "\n"
          ],
          "name": "stdout"
        }
      ]
    },
    {
      "cell_type": "code",
      "metadata": {
        "colab": {
          "base_uri": "https://localhost:8080/",
          "height": 419
        },
        "id": "PBpMPuasxCks",
        "outputId": "13aafb83-158d-4b51-f947-3cac278582d2"
      },
      "source": [
        "#Plot the confusion matrix.\n",
        "cm = confusion_matrix(y_test, y_pred) \n",
        "cm_df = pd.DataFrame(cm,\n",
        "                     index = ['No Churn','Churn'], \n",
        "                     columns = ['No Churn','Churn'])\n",
        "plt.figure(figsize=(8,6))\n",
        "sns.heatmap(cm_df, annot=True,fmt='g',cmap='Blues')\n",
        "plt.title('Random Forest \\nAccuracy:{0:.3f}'.format(accuracy_score(y_test, y_pred)))\n",
        "plt.ylabel('True Values')\n",
        "plt.xlabel('Predicted Values')\n",
        "plt.show()"
      ],
      "execution_count": 52,
      "outputs": [
        {
          "output_type": "display_data",
          "data": {
            "image/png": "[encoded data removed]",
            "text/plain": [
              "<Figure size 576x432 with 2 Axes>"
            ]
          },
          "metadata": {
            "tags": [],
            "needs_background": "light"
          }
        }
      ]
    },
    {
      "cell_type": "code",
      "metadata": {
        "id": "8VESwNAqxHhn"
      },
      "source": [
        "from sklearn.metrics import roc_curve,auc"
      ],
      "execution_count": 53,
      "outputs": []
    },
    {
      "cell_type": "code",
      "metadata": {
        "id": "d7JCmVv-xKPU"
      },
      "source": [
        "#Use the classifiers which were created in our previous activity, that is, \n",
        "#clf_logistic, clf_svm, clf_decision, and clf_random_grid. \n",
        "#Create a dictionary of all these models.\n",
        "models = [\n",
        "{\n",
        "    'label': 'Logistic Regression',\n",
        "    'model': clf_logistic,\n",
        "},\n",
        "{\n",
        "    'label': 'Decision Tree',\n",
        "    'model': clf_decision,\n",
        "},\n",
        "{\n",
        "    'label': 'Random Forest Grid Search',\n",
        "    'model': clf_random_grid,\n",
        "}\n",
        "]"
      ],
      "execution_count": 55,
      "outputs": []
    },
    {
      "cell_type": "code",
      "metadata": {
        "colab": {
          "base_uri": "https://localhost:8080/",
          "height": 295
        },
        "id": "bHAcUjOIxPJ9",
        "outputId": "0355d067-6b30-4afa-997e-1964bc7ebc76"
      },
      "source": [
        "#Plot the ROC curve.\n",
        "for m in models:\n",
        "    model = m['model'] \n",
        "    model.fit(X_train_scalar_combined, y_train) \n",
        "    y_pred=model.predict(X_test_scalar_combined) \n",
        "    fpr, tpr, thresholds = roc_curve(y_test, y_pred, pos_label=1)\n",
        "    roc_auc = metrics.auc(fpr, tpr)\n",
        "    plt.plot(fpr, tpr, label='%s AUC = %0.2f' % (m['label'], roc_auc))\n",
        "plt.plot([0, 1], [0, 1],'r--')\n",
        "plt.xlim([0.0, 1.0])\n",
        "plt.ylim([0.0, 1.05])\n",
        "plt.ylabel('Sensitivity(True Positive Rate)')\n",
        "plt.xlabel('1-Specificity(False Positive Rate)')\n",
        "plt.title('Receiver Operating Characteristic')\n",
        "plt.legend(loc=\"lower right\")\n",
        "plt.show()"
      ],
      "execution_count": 56,
      "outputs": [
        {
          "output_type": "display_data",
          "data": {
            "image/png": "[encoded data removed]",
            "text/plain": [
              "<Figure size 432x288 with 1 Axes>"
            ]
          },
          "metadata": {
            "tags": [],
            "needs_background": "light"
          }
        }
      ]
    },
    {
      "cell_type": "markdown",
      "metadata": {
        "id": "5QZwh0dLxfOx"
      },
      "source": [
        "Comparing the AUC result of different algorithms (logistic regression: 0.78, decision tree: 0.76, and random forest: 0.82), we can conclude that random forest is the best performing model with the AUC score of 0.82 and can be chosen for the marketing team to predict customer churn."
      ]
    },
    {
      "cell_type": "code",
      "metadata": {
        "id": "85jYPKuZxgWa"
      },
      "source": [
        ""
      ],
      "execution_count": null,
      "outputs": []
    }
  ]
}